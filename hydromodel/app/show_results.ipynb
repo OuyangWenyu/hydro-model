{
 "cells": [
  {
   "cell_type": "markdown",
   "metadata": {},
   "source": [
    "# 分析结果\n",
    "\n",
    "这是一个用于分析模型率定后测试结果的 Jupyter Notebook。读取各个exp下面的结果文件看看。"
   ]
  },
  {
   "cell_type": "code",
   "execution_count": 1,
   "metadata": {},
   "outputs": [
    {
     "name": "stdout",
     "output_type": "stream",
     "text": [
      "Please Check your directory:\n",
      "ROOT_DIR of the repo:  c:\\Users\\wenyu\\source\\repos\\hydro-model-xaj\n",
      "DATASET_DIR of the repo:  c:\\Users\\wenyu\\source\\data\n"
     ]
    }
   ],
   "source": [
    "import os\n",
    "import sys\n",
    "from pathlib import Path\n",
    "\n",
    "sys.path.append(os.path.dirname(Path(os.path.abspath('')).parent))\n",
    "import definitions"
   ]
  },
  {
   "cell_type": "code",
   "execution_count": 2,
   "metadata": {},
   "outputs": [],
   "source": [
    "import pandas as pd\n",
    "import matplotlib.pyplot as plt"
   ]
  },
  {
   "cell_type": "code",
   "execution_count": 9,
   "metadata": {},
   "outputs": [],
   "source": [
    "metric_mean_file = Path(os.path.join(definitions.ROOT_DIR, \"hydromodel\", \"example\", \"exp201\", \"basins_test_metrics_mean_all_cases.csv\"))\n",
    "metric_median_file = Path(os.path.join(definitions.ROOT_DIR, \"hydromodel\", \"example\", \"exp201\", \"basins_test_metrics_median_all_cases.csv\"))"
   ]
  },
  {
   "cell_type": "code",
   "execution_count": 10,
   "metadata": {},
   "outputs": [],
   "source": [
    "metric_mean = pd.read_csv(metric_mean_file, index_col=0)\n",
    "metric_median = pd.read_csv(metric_median_file, index_col=0)"
   ]
  },
  {
   "cell_type": "code",
   "execution_count": 11,
   "metadata": {},
   "outputs": [
    {
     "data": {
      "text/html": [
       "<div>\n",
       "<style scoped>\n",
       "    .dataframe tbody tr th:only-of-type {\n",
       "        vertical-align: middle;\n",
       "    }\n",
       "\n",
       "    .dataframe tbody tr th {\n",
       "        vertical-align: top;\n",
       "    }\n",
       "\n",
       "    .dataframe thead th {\n",
       "        text-align: right;\n",
       "    }\n",
       "</style>\n",
       "<table border=\"1\" class=\"dataframe\">\n",
       "  <thead>\n",
       "    <tr style=\"text-align: right;\">\n",
       "      <th></th>\n",
       "      <th>Bias</th>\n",
       "      <th>RMSE</th>\n",
       "      <th>ubRMSE</th>\n",
       "      <th>Corr</th>\n",
       "      <th>R2</th>\n",
       "      <th>NSE</th>\n",
       "      <th>KGE</th>\n",
       "      <th>FHV</th>\n",
       "      <th>FLV</th>\n",
       "    </tr>\n",
       "  </thead>\n",
       "  <tbody>\n",
       "    <tr>\n",
       "      <th>NaN</th>\n",
       "      <td>-38.040823</td>\n",
       "      <td>140.371584</td>\n",
       "      <td>133.078035</td>\n",
       "      <td>0.718456</td>\n",
       "      <td>0.402706</td>\n",
       "      <td>0.402706</td>\n",
       "      <td>0.466833</td>\n",
       "      <td>-26.523422</td>\n",
       "      <td>5.316441</td>\n",
       "    </tr>\n",
       "    <tr>\n",
       "      <th>HFsources</th>\n",
       "      <td>-38.019304</td>\n",
       "      <td>142.458621</td>\n",
       "      <td>135.027414</td>\n",
       "      <td>0.712506</td>\n",
       "      <td>0.375980</td>\n",
       "      <td>0.375980</td>\n",
       "      <td>0.473212</td>\n",
       "      <td>-21.426497</td>\n",
       "      <td>5.874046</td>\n",
       "    </tr>\n",
       "    <tr>\n",
       "      <th>xajHFsources</th>\n",
       "      <td>-31.410343</td>\n",
       "      <td>179.334546</td>\n",
       "      <td>174.828694</td>\n",
       "      <td>0.495601</td>\n",
       "      <td>0.178166</td>\n",
       "      <td>0.178166</td>\n",
       "      <td>0.241897</td>\n",
       "      <td>-52.154434</td>\n",
       "      <td>55.063198</td>\n",
       "    </tr>\n",
       "  </tbody>\n",
       "</table>\n",
       "</div>"
      ],
      "text/plain": [
       "                   Bias        RMSE      ubRMSE      Corr        R2       NSE  \\\n",
       "NaN          -38.040823  140.371584  133.078035  0.718456  0.402706  0.402706   \n",
       "HFsources    -38.019304  142.458621  135.027414  0.712506  0.375980  0.375980   \n",
       "xajHFsources -31.410343  179.334546  174.828694  0.495601  0.178166  0.178166   \n",
       "\n",
       "                   KGE        FHV        FLV  \n",
       "NaN           0.466833 -26.523422   5.316441  \n",
       "HFsources     0.473212 -21.426497   5.874046  \n",
       "xajHFsources  0.241897 -52.154434  55.063198  "
      ]
     },
     "execution_count": 11,
     "metadata": {},
     "output_type": "execute_result"
    }
   ],
   "source": [
    "metric_mean"
   ]
  },
  {
   "cell_type": "code",
   "execution_count": 12,
   "metadata": {},
   "outputs": [
    {
     "data": {
      "text/html": [
       "<div>\n",
       "<style scoped>\n",
       "    .dataframe tbody tr th:only-of-type {\n",
       "        vertical-align: middle;\n",
       "    }\n",
       "\n",
       "    .dataframe tbody tr th {\n",
       "        vertical-align: top;\n",
       "    }\n",
       "\n",
       "    .dataframe thead th {\n",
       "        text-align: right;\n",
       "    }\n",
       "</style>\n",
       "<table border=\"1\" class=\"dataframe\">\n",
       "  <thead>\n",
       "    <tr style=\"text-align: right;\">\n",
       "      <th></th>\n",
       "      <th>Bias</th>\n",
       "      <th>RMSE</th>\n",
       "      <th>ubRMSE</th>\n",
       "      <th>Corr</th>\n",
       "      <th>R2</th>\n",
       "      <th>NSE</th>\n",
       "      <th>KGE</th>\n",
       "      <th>FHV</th>\n",
       "      <th>FLV</th>\n",
       "    </tr>\n",
       "  </thead>\n",
       "  <tbody>\n",
       "    <tr>\n",
       "      <th>NaN</th>\n",
       "      <td>-23.563702</td>\n",
       "      <td>103.561371</td>\n",
       "      <td>100.163566</td>\n",
       "      <td>0.698029</td>\n",
       "      <td>0.435731</td>\n",
       "      <td>0.435731</td>\n",
       "      <td>0.517797</td>\n",
       "      <td>-26.467879</td>\n",
       "      <td>-27.434441</td>\n",
       "    </tr>\n",
       "    <tr>\n",
       "      <th>HFsources</th>\n",
       "      <td>-24.489225</td>\n",
       "      <td>104.603251</td>\n",
       "      <td>101.225733</td>\n",
       "      <td>0.695736</td>\n",
       "      <td>0.414580</td>\n",
       "      <td>0.414580</td>\n",
       "      <td>0.531209</td>\n",
       "      <td>-21.144583</td>\n",
       "      <td>-26.480053</td>\n",
       "    </tr>\n",
       "    <tr>\n",
       "      <th>xajHFsources</th>\n",
       "      <td>-16.771830</td>\n",
       "      <td>125.237613</td>\n",
       "      <td>123.441410</td>\n",
       "      <td>0.483835</td>\n",
       "      <td>0.186539</td>\n",
       "      <td>0.186539</td>\n",
       "      <td>0.219498</td>\n",
       "      <td>-53.051419</td>\n",
       "      <td>-1.451178</td>\n",
       "    </tr>\n",
       "  </tbody>\n",
       "</table>\n",
       "</div>"
      ],
      "text/plain": [
       "                   Bias        RMSE      ubRMSE      Corr        R2       NSE  \\\n",
       "NaN          -23.563702  103.561371  100.163566  0.698029  0.435731  0.435731   \n",
       "HFsources    -24.489225  104.603251  101.225733  0.695736  0.414580  0.414580   \n",
       "xajHFsources -16.771830  125.237613  123.441410  0.483835  0.186539  0.186539   \n",
       "\n",
       "                   KGE        FHV        FLV  \n",
       "NaN           0.517797 -26.467879 -27.434441  \n",
       "HFsources     0.531209 -21.144583 -26.480053  \n",
       "xajHFsources  0.219498 -53.051419  -1.451178  "
      ]
     },
     "execution_count": 12,
     "metadata": {},
     "output_type": "execute_result"
    }
   ],
   "source": [
    "metric_median"
   ]
  },
  {
   "cell_type": "code",
   "execution_count": null,
   "metadata": {},
   "outputs": [],
   "source": []
  }
 ],
 "metadata": {
  "kernelspec": {
   "display_name": "Python 3.9.7 ('xaj')",
   "language": "python",
   "name": "python3"
  },
  "language_info": {
   "codemirror_mode": {
    "name": "ipython",
    "version": 3
   },
   "file_extension": ".py",
   "mimetype": "text/x-python",
   "name": "python",
   "nbconvert_exporter": "python",
   "pygments_lexer": "ipython3",
   "version": "3.9.13"
  },
  "orig_nbformat": 4,
  "vscode": {
   "interpreter": {
    "hash": "5ff2b0240d3185dc85fb5f0a6365eefe977ea7c2afca8c64838dc9fcf4f02a96"
   }
  }
 },
 "nbformat": 4,
 "nbformat_minor": 2
}
